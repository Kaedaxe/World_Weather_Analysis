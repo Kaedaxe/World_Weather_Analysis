{
 "cells": [
  {
   "cell_type": "code",
   "execution_count": 3,
   "id": "a40ccaba",
   "metadata": {},
   "outputs": [],
   "source": [
    "import random"
   ]
  },
  {
   "cell_type": "code",
   "execution_count": 4,
   "id": "ed6bbcc0",
   "metadata": {},
   "outputs": [
    {
     "data": {
      "text/plain": [
       "-11"
      ]
     },
     "execution_count": 4,
     "metadata": {},
     "output_type": "execute_result"
    }
   ],
   "source": [
    "random.randint(-90, 90)"
   ]
  },
  {
   "cell_type": "code",
   "execution_count": 5,
   "id": "8ddacfed",
   "metadata": {},
   "outputs": [
    {
     "data": {
      "text/plain": [
       "0.6135660389506719"
      ]
     },
     "execution_count": 5,
     "metadata": {},
     "output_type": "execute_result"
    }
   ],
   "source": [
    "random.random()"
   ]
  },
  {
   "cell_type": "code",
   "execution_count": 6,
   "id": "24a8927f",
   "metadata": {},
   "outputs": [
    {
     "data": {
      "text/plain": [
       "-13.310448311584832"
      ]
     },
     "execution_count": 6,
     "metadata": {},
     "output_type": "execute_result"
    }
   ],
   "source": [
    "randnum = random.randint(-90, 89) + random.random()\n",
    "randnum"
   ]
  },
  {
   "cell_type": "code",
   "execution_count": 7,
   "id": "5e6fc241",
   "metadata": {},
   "outputs": [
    {
     "data": {
      "text/plain": [
       "[65.51936955893278,\n",
       " -51.43959601808499,\n",
       " 82.44189347559572,\n",
       " 84.04025885223771,\n",
       " -68.53205979376403,\n",
       " -5.376425068545679,\n",
       " -86.89631790998038,\n",
       " -40.35886501289541,\n",
       " -77.13204384301538,\n",
       " -16.582216327387556]"
      ]
     },
     "execution_count": 7,
     "metadata": {},
     "output_type": "execute_result"
    }
   ],
   "source": [
    "x = 1\n",
    "latitudes = []\n",
    "while x < 11:\n",
    "    latitudes.append(random.randint(-90, 89) + random.random())\n",
    "    x += 1\n",
    "latitudes"
   ]
  },
  {
   "cell_type": "code",
   "execution_count": 8,
   "id": "028b0962",
   "metadata": {},
   "outputs": [
    {
     "data": {
      "text/plain": [
       "54"
      ]
     },
     "execution_count": 8,
     "metadata": {},
     "output_type": "execute_result"
    }
   ],
   "source": [
    "random.randrange(-90, 90, step=3)"
   ]
  },
  {
   "cell_type": "code",
   "execution_count": 9,
   "id": "c775e62e",
   "metadata": {},
   "outputs": [],
   "source": [
    "import numpy as np"
   ]
  },
  {
   "cell_type": "code",
   "execution_count": 10,
   "id": "80832aed",
   "metadata": {},
   "outputs": [
    {
     "data": {
      "text/plain": [
       "array([-61.30905316, -82.05941702,  79.08568213, -55.07292057,\n",
       "        49.30912567, -47.04308982,  18.04663871,  -8.02718836,\n",
       "         2.65279992, -74.07532875, -12.80576206, -32.32458095,\n",
       "        44.93292047, -51.03006528,  33.76213679, -74.72974986,\n",
       "       -83.1665881 , -19.24452772, -67.41724911, -85.05172427,\n",
       "        43.48664239,  26.45959036,  79.34888037, -33.45065776,\n",
       "       -65.27075886,  48.27072558,  60.45093235, -42.47177659,\n",
       "       -26.74729446, -47.26639643,  33.12269219,  62.66948574,\n",
       "       -55.43136262, -25.76419314, -28.78991377, -54.6876025 ,\n",
       "       -24.83083331,  32.64087008,  40.25146974,  86.61894497,\n",
       "       -24.52730378,  46.62562747, -33.92877302, -73.22085626,\n",
       "       -88.80281637, -36.30183687,  16.82344572, -87.5240069 ,\n",
       "        43.65835869, -38.09777777])"
      ]
     },
     "execution_count": 10,
     "metadata": {},
     "output_type": "execute_result"
    }
   ],
   "source": [
    "np.random.uniform(-90.,90., size = 50)"
   ]
  },
  {
   "cell_type": "code",
   "execution_count": 11,
   "id": "07b6970e",
   "metadata": {},
   "outputs": [],
   "source": [
    "import timeit"
   ]
  },
  {
   "cell_type": "code",
   "execution_count": 12,
   "id": "992891d9",
   "metadata": {},
   "outputs": [
    {
     "name": "stdout",
     "output_type": "stream",
     "text": [
      "13.8 µs ± 106 ns per loop (mean ± std. dev. of 7 runs, 100000 loops each)\n"
     ]
    }
   ],
   "source": [
    "%timeit np.random.uniform(-90.,90., size = 1500)"
   ]
  },
  {
   "cell_type": "code",
   "execution_count": 13,
   "id": "e73db559",
   "metadata": {},
   "outputs": [],
   "source": [
    "def latitudes(size):\n",
    "    latitudes = []\n",
    "    for x in range(0, size):\n",
    "        latitudes.append(random.randint(-90, 89) + random.random())\n",
    "    return latitudes"
   ]
  },
  {
   "cell_type": "code",
   "execution_count": 14,
   "id": "3b3f661c",
   "metadata": {},
   "outputs": [
    {
     "name": "stdout",
     "output_type": "stream",
     "text": [
      "1.75 ms ± 6.17 µs per loop (mean ± std. dev. of 7 runs, 1000 loops each)\n"
     ]
    }
   ],
   "source": [
    "%timeit latitudes(1500)"
   ]
  }
 ],
 "metadata": {
  "kernelspec": {
   "display_name": "Python 3 (ipykernel)",
   "language": "python",
   "name": "python3"
  },
  "language_info": {
   "codemirror_mode": {
    "name": "ipython",
    "version": 3
   },
   "file_extension": ".py",
   "mimetype": "text/x-python",
   "name": "python",
   "nbconvert_exporter": "python",
   "pygments_lexer": "ipython3",
   "version": "3.9.7"
  }
 },
 "nbformat": 4,
 "nbformat_minor": 5
}
